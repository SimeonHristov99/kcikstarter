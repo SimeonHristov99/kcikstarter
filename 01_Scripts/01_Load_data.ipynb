{
 "cells": [
  {
   "attachments": {},
   "cell_type": "markdown",
   "metadata": {},
   "source": [
    "# Imports"
   ]
  },
  {
   "cell_type": "code",
   "execution_count": 1,
   "metadata": {},
   "outputs": [],
   "source": [
    "%reset -f\n",
    "%load_ext autoreload\n",
    "%autoreload 2"
   ]
  },
  {
   "cell_type": "code",
   "execution_count": 2,
   "metadata": {},
   "outputs": [],
   "source": [
    "import pandas as pd\n",
    "\n",
    "from sklearn.model_selection import train_test_split\n",
    "\n",
    "from controller import Controller"
   ]
  },
  {
   "cell_type": "code",
   "execution_count": 3,
   "metadata": {},
   "outputs": [],
   "source": [
    "c = Controller('i01')\n",
    "\n",
    "variables = [\n",
    "    'project_id',\n",
    "    'name', \n",
    "    'desc',\n",
    "    'goal',\n",
    "    'keywords',\n",
    "    'disable_communication',\n",
    "    'country',\n",
    "    'currency',\n",
    "    'deadline',\n",
    "    'state_changed_at',\n",
    "    'created_at',\n",
    "    'launched_at',\n",
    "    'backers_count',\n",
    "]"
   ]
  },
  {
   "attachments": {},
   "cell_type": "markdown",
   "metadata": {},
   "source": [
    "# Load data"
   ]
  },
  {
   "cell_type": "code",
   "execution_count": 4,
   "metadata": {},
   "outputs": [
    {
     "name": "stdout",
     "output_type": "stream",
     "text": [
      "df_train_val_test_orig.shape=(108129, 14)\n",
      "df_predict.shape=(63465, 12)\n"
     ]
    }
   ],
   "source": [
    "datecols = ['deadline', 'state_changed_at', 'created_at', 'launched_at']\n",
    "\n",
    "df_train_val_test_orig = pd.read_csv(fr'{c.get_path_data_original()}/train.csv')\n",
    "df_train_val_test_orig[datecols] = df_train_val_test_orig[datecols].apply(pd.to_datetime)\n",
    "\n",
    "df_predict = pd.read_csv(fr'{c.get_path_data_original()}/test.csv')\n",
    "df_predict[datecols] = df_predict[datecols].apply(pd.to_datetime)\n",
    "\n",
    "print(f'{df_train_val_test_orig.shape=}')\n",
    "print(f'{df_predict.shape=}')"
   ]
  },
  {
   "cell_type": "code",
   "execution_count": 5,
   "metadata": {},
   "outputs": [
    {
     "name": "stdout",
     "output_type": "stream",
     "text": [
      "<class 'pandas.core.frame.DataFrame'>\n",
      "RangeIndex: 108129 entries, 0 to 108128\n",
      "Data columns (total 14 columns):\n",
      " #   Column                 Non-Null Count   Dtype         \n",
      "---  ------                 --------------   -----         \n",
      " 0   project_id             108129 non-null  object        \n",
      " 1   name                   108126 non-null  object        \n",
      " 2   desc                   108120 non-null  object        \n",
      " 3   goal                   108129 non-null  float64       \n",
      " 4   keywords               108129 non-null  object        \n",
      " 5   disable_communication  108129 non-null  bool          \n",
      " 6   country                108129 non-null  object        \n",
      " 7   currency               108129 non-null  object        \n",
      " 8   deadline               108129 non-null  datetime64[ns]\n",
      " 9   state_changed_at       108129 non-null  datetime64[ns]\n",
      " 10  created_at             108129 non-null  datetime64[ns]\n",
      " 11  launched_at            108129 non-null  datetime64[ns]\n",
      " 12  backers_count          108129 non-null  int64         \n",
      " 13  final_status           108129 non-null  int64         \n",
      "dtypes: bool(1), datetime64[ns](4), float64(1), int64(2), object(6)\n",
      "memory usage: 10.8+ MB\n"
     ]
    }
   ],
   "source": [
    "df_train_val_test_orig.info()"
   ]
  },
  {
   "cell_type": "code",
   "execution_count": 6,
   "metadata": {},
   "outputs": [
    {
     "name": "stdout",
     "output_type": "stream",
     "text": [
      "<class 'pandas.core.frame.DataFrame'>\n",
      "RangeIndex: 63465 entries, 0 to 63464\n",
      "Data columns (total 12 columns):\n",
      " #   Column                 Non-Null Count  Dtype         \n",
      "---  ------                 --------------  -----         \n",
      " 0   project_id             63465 non-null  object        \n",
      " 1   name                   63465 non-null  object        \n",
      " 2   desc                   63461 non-null  object        \n",
      " 3   goal                   63465 non-null  float64       \n",
      " 4   keywords               63465 non-null  object        \n",
      " 5   disable_communication  63465 non-null  bool          \n",
      " 6   country                63465 non-null  object        \n",
      " 7   currency               63465 non-null  object        \n",
      " 8   deadline               63465 non-null  datetime64[ns]\n",
      " 9   state_changed_at       63465 non-null  datetime64[ns]\n",
      " 10  created_at             63465 non-null  datetime64[ns]\n",
      " 11  launched_at            63465 non-null  datetime64[ns]\n",
      "dtypes: bool(1), datetime64[ns](4), float64(1), object(6)\n",
      "memory usage: 5.4+ MB\n"
     ]
    }
   ],
   "source": [
    "# `final_status` is the target variable.\n",
    "# Note that `backers_count` is missing. This means we shouldn't train the model on it.\n",
    "df_predict.info()"
   ]
  },
  {
   "attachments": {},
   "cell_type": "markdown",
   "metadata": {},
   "source": [
    "# Check for mixed types"
   ]
  },
  {
   "cell_type": "code",
   "execution_count": 7,
   "metadata": {},
   "outputs": [
    {
     "data": {
      "text/plain": [
       "['disable_communication',\n",
       " 'deadline',\n",
       " 'state_changed_at',\n",
       " 'created_at',\n",
       " 'launched_at']"
      ]
     },
     "execution_count": 7,
     "metadata": {},
     "output_type": "execute_result"
    }
   ],
   "source": [
    "can_be_numeric = []\n",
    "\n",
    "for col in df_train_val_test_orig.select_dtypes(exclude='number'):\n",
    "    try:\n",
    "        pd.to_numeric(df_train_val_test_orig[col])\n",
    "    except ValueError:\n",
    "        pass\n",
    "    else:\n",
    "        can_be_numeric.append(col)\n",
    "\n",
    "# We are left with the date columns which is ok.\n",
    "can_be_numeric"
   ]
  },
  {
   "attachments": {},
   "cell_type": "markdown",
   "metadata": {},
   "source": [
    "# Train-val-test split"
   ]
  },
  {
   "cell_type": "code",
   "execution_count": 8,
   "metadata": {},
   "outputs": [
    {
     "name": "stdout",
     "output_type": "stream",
     "text": [
      "df_train.shape=(86503, 14)\n",
      "df_val.shape=(10813, 14)\n",
      "df_test.shape=(10813, 14)\n"
     ]
    },
    {
     "data": {
      "text/html": [
       "<div>\n",
       "<style scoped>\n",
       "    .dataframe tbody tr th:only-of-type {\n",
       "        vertical-align: middle;\n",
       "    }\n",
       "\n",
       "    .dataframe tbody tr th {\n",
       "        vertical-align: top;\n",
       "    }\n",
       "\n",
       "    .dataframe thead th {\n",
       "        text-align: right;\n",
       "    }\n",
       "</style>\n",
       "<table border=\"1\" class=\"dataframe\">\n",
       "  <thead>\n",
       "    <tr style=\"text-align: right;\">\n",
       "      <th></th>\n",
       "      <th>Total #</th>\n",
       "      <th>Total %</th>\n",
       "    </tr>\n",
       "  </thead>\n",
       "  <tbody>\n",
       "    <tr>\n",
       "      <th>Train</th>\n",
       "      <td>86503</td>\n",
       "      <td>0.799998</td>\n",
       "    </tr>\n",
       "    <tr>\n",
       "      <th>Val</th>\n",
       "      <td>10813</td>\n",
       "      <td>0.100001</td>\n",
       "    </tr>\n",
       "    <tr>\n",
       "      <th>Test</th>\n",
       "      <td>10813</td>\n",
       "      <td>0.100001</td>\n",
       "    </tr>\n",
       "  </tbody>\n",
       "</table>\n",
       "</div>"
      ],
      "text/plain": [
       "       Total #   Total %\n",
       "Train    86503  0.799998\n",
       "Val      10813  0.100001\n",
       "Test     10813  0.100001"
      ]
     },
     "execution_count": 8,
     "metadata": {},
     "output_type": "execute_result"
    }
   ],
   "source": [
    "df_train, df_val_test = train_test_split(df_train_val_test_orig, test_size=0.2, random_state=42)\n",
    "df_val, df_test = train_test_split(df_val_test, test_size=0.5, random_state=42)\n",
    "\n",
    "print(f'{df_train.shape=}')\n",
    "print(f'{df_val.shape=}')\n",
    "print(f'{df_test.shape=}')\n",
    "\n",
    "df_train['TRAIN_VAL_TEST_SPLIT'] = 'Train'\n",
    "df_val['TRAIN_VAL_TEST_SPLIT'] = 'Val'\n",
    "df_test['TRAIN_VAL_TEST_SPLIT'] = 'Test'\n",
    "\n",
    "df_train_val_test = pd.concat([df_train, df_val, df_test], ignore_index=True)\n",
    "\n",
    "pd.concat([\n",
    "    df_train_val_test['TRAIN_VAL_TEST_SPLIT'].value_counts(dropna=False),\n",
    "    df_train_val_test['TRAIN_VAL_TEST_SPLIT'].value_counts(dropna=False, normalize=True),\n",
    "], axis=1, keys=['Total #', 'Total %'])"
   ]
  },
  {
   "attachments": {},
   "cell_type": "markdown",
   "metadata": {},
   "source": [
    "# Check for duplicates"
   ]
  },
  {
   "cell_type": "code",
   "execution_count": 9,
   "metadata": {},
   "outputs": [
    {
     "data": {
      "text/plain": [
       "False"
      ]
     },
     "execution_count": 9,
     "metadata": {},
     "output_type": "execute_result"
    }
   ],
   "source": [
    "# `False` means no duplicates\n",
    "any(df_train_val_test.duplicated())"
   ]
  },
  {
   "attachments": {},
   "cell_type": "markdown",
   "metadata": {},
   "source": [
    "# Capitalize column names"
   ]
  },
  {
   "cell_type": "code",
   "execution_count": 10,
   "metadata": {},
   "outputs": [
    {
     "data": {
      "text/plain": [
       "Index(['PROJECT_ID', 'NAME', 'DESC', 'GOAL', 'KEYWORDS',\n",
       "       'DISABLE_COMMUNICATION', 'COUNTRY', 'CURRENCY', 'DEADLINE',\n",
       "       'STATE_CHANGED_AT', 'CREATED_AT', 'LAUNCHED_AT', 'BACKERS_COUNT',\n",
       "       'FINAL_STATUS', 'TRAIN_VAL_TEST_SPLIT'],\n",
       "      dtype='object')"
      ]
     },
     "execution_count": 10,
     "metadata": {},
     "output_type": "execute_result"
    }
   ],
   "source": [
    "df_train_val_test.columns = df_train_val_test.columns.map(lambda col: col.upper())\n",
    "df_train_val_test.columns"
   ]
  },
  {
   "attachments": {},
   "cell_type": "markdown",
   "metadata": {},
   "source": [
    "# Frequency of missing values"
   ]
  },
  {
   "cell_type": "code",
   "execution_count": 11,
   "metadata": {},
   "outputs": [
    {
     "data": {
      "text/html": [
       "<div>\n",
       "<style scoped>\n",
       "    .dataframe tbody tr th:only-of-type {\n",
       "        vertical-align: middle;\n",
       "    }\n",
       "\n",
       "    .dataframe tbody tr th {\n",
       "        vertical-align: top;\n",
       "    }\n",
       "\n",
       "    .dataframe thead th {\n",
       "        text-align: right;\n",
       "    }\n",
       "</style>\n",
       "<table border=\"1\" class=\"dataframe\">\n",
       "  <thead>\n",
       "    <tr style=\"text-align: right;\">\n",
       "      <th></th>\n",
       "      <th># Missing</th>\n",
       "      <th>% Missing</th>\n",
       "    </tr>\n",
       "  </thead>\n",
       "  <tbody>\n",
       "    <tr>\n",
       "      <th>DESC</th>\n",
       "      <td>9</td>\n",
       "      <td>0.000083</td>\n",
       "    </tr>\n",
       "    <tr>\n",
       "      <th>NAME</th>\n",
       "      <td>3</td>\n",
       "      <td>0.000028</td>\n",
       "    </tr>\n",
       "    <tr>\n",
       "      <th>PROJECT_ID</th>\n",
       "      <td>0</td>\n",
       "      <td>0.000000</td>\n",
       "    </tr>\n",
       "    <tr>\n",
       "      <th>GOAL</th>\n",
       "      <td>0</td>\n",
       "      <td>0.000000</td>\n",
       "    </tr>\n",
       "    <tr>\n",
       "      <th>KEYWORDS</th>\n",
       "      <td>0</td>\n",
       "      <td>0.000000</td>\n",
       "    </tr>\n",
       "    <tr>\n",
       "      <th>DISABLE_COMMUNICATION</th>\n",
       "      <td>0</td>\n",
       "      <td>0.000000</td>\n",
       "    </tr>\n",
       "    <tr>\n",
       "      <th>COUNTRY</th>\n",
       "      <td>0</td>\n",
       "      <td>0.000000</td>\n",
       "    </tr>\n",
       "    <tr>\n",
       "      <th>CURRENCY</th>\n",
       "      <td>0</td>\n",
       "      <td>0.000000</td>\n",
       "    </tr>\n",
       "    <tr>\n",
       "      <th>DEADLINE</th>\n",
       "      <td>0</td>\n",
       "      <td>0.000000</td>\n",
       "    </tr>\n",
       "    <tr>\n",
       "      <th>STATE_CHANGED_AT</th>\n",
       "      <td>0</td>\n",
       "      <td>0.000000</td>\n",
       "    </tr>\n",
       "    <tr>\n",
       "      <th>CREATED_AT</th>\n",
       "      <td>0</td>\n",
       "      <td>0.000000</td>\n",
       "    </tr>\n",
       "    <tr>\n",
       "      <th>LAUNCHED_AT</th>\n",
       "      <td>0</td>\n",
       "      <td>0.000000</td>\n",
       "    </tr>\n",
       "    <tr>\n",
       "      <th>BACKERS_COUNT</th>\n",
       "      <td>0</td>\n",
       "      <td>0.000000</td>\n",
       "    </tr>\n",
       "    <tr>\n",
       "      <th>FINAL_STATUS</th>\n",
       "      <td>0</td>\n",
       "      <td>0.000000</td>\n",
       "    </tr>\n",
       "    <tr>\n",
       "      <th>TRAIN_VAL_TEST_SPLIT</th>\n",
       "      <td>0</td>\n",
       "      <td>0.000000</td>\n",
       "    </tr>\n",
       "  </tbody>\n",
       "</table>\n",
       "</div>"
      ],
      "text/plain": [
       "                       # Missing  % Missing\n",
       "DESC                           9   0.000083\n",
       "NAME                           3   0.000028\n",
       "PROJECT_ID                     0   0.000000\n",
       "GOAL                           0   0.000000\n",
       "KEYWORDS                       0   0.000000\n",
       "DISABLE_COMMUNICATION          0   0.000000\n",
       "COUNTRY                        0   0.000000\n",
       "CURRENCY                       0   0.000000\n",
       "DEADLINE                       0   0.000000\n",
       "STATE_CHANGED_AT               0   0.000000\n",
       "CREATED_AT                     0   0.000000\n",
       "LAUNCHED_AT                    0   0.000000\n",
       "BACKERS_COUNT                  0   0.000000\n",
       "FINAL_STATUS                   0   0.000000\n",
       "TRAIN_VAL_TEST_SPLIT           0   0.000000"
      ]
     },
     "execution_count": 11,
     "metadata": {},
     "output_type": "execute_result"
    }
   ],
   "source": [
    "pd.concat([\n",
    "    df_train_val_test.isna().sum().sort_values(ascending=False),\n",
    "    df_train_val_test.isna().mean(),\n",
    "], axis=1, keys=['# Missing', '% Missing'])"
   ]
  },
  {
   "attachments": {},
   "cell_type": "markdown",
   "metadata": {},
   "source": [
    "# Plot flag frequencies"
   ]
  },
  {
   "cell_type": "code",
   "execution_count": 12,
   "metadata": {},
   "outputs": [
    {
     "data": {
      "text/html": [
       "<div>\n",
       "<style scoped>\n",
       "    .dataframe tbody tr th:only-of-type {\n",
       "        vertical-align: middle;\n",
       "    }\n",
       "\n",
       "    .dataframe tbody tr th {\n",
       "        vertical-align: top;\n",
       "    }\n",
       "\n",
       "    .dataframe thead th {\n",
       "        text-align: right;\n",
       "    }\n",
       "</style>\n",
       "<table border=\"1\" class=\"dataframe\">\n",
       "  <thead>\n",
       "    <tr style=\"text-align: right;\">\n",
       "      <th></th>\n",
       "      <th>Total #</th>\n",
       "      <th>Total %</th>\n",
       "    </tr>\n",
       "  </thead>\n",
       "  <tbody>\n",
       "    <tr>\n",
       "      <th>0</th>\n",
       "      <td>73568</td>\n",
       "      <td>0.680373</td>\n",
       "    </tr>\n",
       "    <tr>\n",
       "      <th>1</th>\n",
       "      <td>34561</td>\n",
       "      <td>0.319627</td>\n",
       "    </tr>\n",
       "  </tbody>\n",
       "</table>\n",
       "</div>"
      ],
      "text/plain": [
       "   Total #   Total %\n",
       "0    73568  0.680373\n",
       "1    34561  0.319627"
      ]
     },
     "execution_count": 12,
     "metadata": {},
     "output_type": "execute_result"
    }
   ],
   "source": [
    "column = 'FINAL_STATUS'\n",
    "pd.concat([\n",
    "    df_train_val_test[column].value_counts(dropna=False),\n",
    "    df_train_val_test[column].value_counts(dropna=False, normalize=True),\n",
    "], axis=1, keys=['Total #', 'Total %'])"
   ]
  },
  {
   "attachments": {},
   "cell_type": "markdown",
   "metadata": {},
   "source": [
    "# Saving to files"
   ]
  },
  {
   "cell_type": "code",
   "execution_count": 13,
   "metadata": {},
   "outputs": [],
   "source": [
    "filepath = fr'{c.get_path_data_prepared()}/01_df_train_val_test.pkl'\n",
    "df_train_val_test.to_pickle(filepath)"
   ]
  }
 ],
 "metadata": {
  "kernelspec": {
   "display_name": ".venv",
   "language": "python",
   "name": "python3"
  },
  "language_info": {
   "codemirror_mode": {
    "name": "ipython",
    "version": 3
   },
   "file_extension": ".py",
   "mimetype": "text/x-python",
   "name": "python",
   "nbconvert_exporter": "python",
   "pygments_lexer": "ipython3",
   "version": "3.10.6"
  },
  "orig_nbformat": 4
 },
 "nbformat": 4,
 "nbformat_minor": 2
}
