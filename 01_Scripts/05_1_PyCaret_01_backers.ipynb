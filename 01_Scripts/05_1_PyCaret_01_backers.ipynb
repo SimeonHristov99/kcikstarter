{
 "cells": [
  {
   "cell_type": "markdown",
   "metadata": {},
   "source": [
    "# Imports"
   ]
  },
  {
   "cell_type": "code",
   "execution_count": 1,
   "metadata": {},
   "outputs": [],
   "source": [
    "import pandas as pd\n",
    "\n",
    "from sklearn.metrics import log_loss \n",
    "\n",
    "import pycaret.regression as pr\n",
    "\n",
    "from controller import Controller"
   ]
  },
  {
   "cell_type": "code",
   "execution_count": 2,
   "metadata": {},
   "outputs": [],
   "source": [
    "c = Controller('i02')\n",
    "\n",
    "cols_to_drop = [\n",
    "    'PROJECT_ID',\n",
    "    'TRAIN_VAL_TEST_SPLIT',\n",
    "    'DEADLINE',\n",
    "    'STATE_CHANGED_AT',\n",
    "    'CREATED_AT',\n",
    "    'LAUNCHED_AT',\n",
    "    'KEYWORDS',\n",
    "    \n",
    "    'DESC',\n",
    "    'NAME',\n",
    "    'FINAL_STATUS',\n",
    "]"
   ]
  },
  {
   "cell_type": "markdown",
   "metadata": {},
   "source": [
    "# Load data"
   ]
  },
  {
   "cell_type": "code",
   "execution_count": 3,
   "metadata": {},
   "outputs": [
    {
     "data": {
      "text/html": [
       "<div>\n",
       "<style scoped>\n",
       "    .dataframe tbody tr th:only-of-type {\n",
       "        vertical-align: middle;\n",
       "    }\n",
       "\n",
       "    .dataframe tbody tr th {\n",
       "        vertical-align: top;\n",
       "    }\n",
       "\n",
       "    .dataframe thead th {\n",
       "        text-align: right;\n",
       "    }\n",
       "</style>\n",
       "<table border=\"1\" class=\"dataframe\">\n",
       "  <thead>\n",
       "    <tr style=\"text-align: right;\">\n",
       "      <th></th>\n",
       "      <th>GOAL</th>\n",
       "      <th>DISABLE_COMMUNICATION</th>\n",
       "      <th>COUNTRY</th>\n",
       "      <th>CURRENCY</th>\n",
       "      <th>BACKERS_COUNT</th>\n",
       "      <th>CREATE_LAUNCH_HOURS</th>\n",
       "      <th>CREATE_LAUNCH_HOURS_LOG</th>\n",
       "      <th>CREATE_DEADLINE_HOURS</th>\n",
       "      <th>CREATE_DEADLINE_HOURS_LOG</th>\n",
       "      <th>LAUNCHED_DEADLINE_HOURS</th>\n",
       "    </tr>\n",
       "  </thead>\n",
       "  <tbody>\n",
       "    <tr>\n",
       "      <th>0</th>\n",
       "      <td>60000.0</td>\n",
       "      <td>False</td>\n",
       "      <td>US</td>\n",
       "      <td>USD</td>\n",
       "      <td>4</td>\n",
       "      <td>2375.831389</td>\n",
       "      <td>7.773524</td>\n",
       "      <td>3095.831389</td>\n",
       "      <td>8.038135</td>\n",
       "      <td>720.000000</td>\n",
       "    </tr>\n",
       "    <tr>\n",
       "      <th>1</th>\n",
       "      <td>800.0</td>\n",
       "      <td>False</td>\n",
       "      <td>US</td>\n",
       "      <td>USD</td>\n",
       "      <td>41</td>\n",
       "      <td>119.452500</td>\n",
       "      <td>4.791255</td>\n",
       "      <td>1400.657500</td>\n",
       "      <td>7.245411</td>\n",
       "      <td>1281.205000</td>\n",
       "    </tr>\n",
       "    <tr>\n",
       "      <th>2</th>\n",
       "      <td>10000.0</td>\n",
       "      <td>False</td>\n",
       "      <td>US</td>\n",
       "      <td>USD</td>\n",
       "      <td>1</td>\n",
       "      <td>6345.470556</td>\n",
       "      <td>8.755654</td>\n",
       "      <td>7185.470556</td>\n",
       "      <td>8.879955</td>\n",
       "      <td>840.000000</td>\n",
       "    </tr>\n",
       "    <tr>\n",
       "      <th>3</th>\n",
       "      <td>270.0</td>\n",
       "      <td>False</td>\n",
       "      <td>GB</td>\n",
       "      <td>GBP</td>\n",
       "      <td>0</td>\n",
       "      <td>0.920833</td>\n",
       "      <td>0.652759</td>\n",
       "      <td>192.920833</td>\n",
       "      <td>5.267450</td>\n",
       "      <td>192.000000</td>\n",
       "    </tr>\n",
       "    <tr>\n",
       "      <th>4</th>\n",
       "      <td>5.0</td>\n",
       "      <td>False</td>\n",
       "      <td>GB</td>\n",
       "      <td>GBP</td>\n",
       "      <td>0</td>\n",
       "      <td>823.233611</td>\n",
       "      <td>6.714454</td>\n",
       "      <td>1544.233611</td>\n",
       "      <td>7.342930</td>\n",
       "      <td>721.000000</td>\n",
       "    </tr>\n",
       "    <tr>\n",
       "      <th>...</th>\n",
       "      <td>...</td>\n",
       "      <td>...</td>\n",
       "      <td>...</td>\n",
       "      <td>...</td>\n",
       "      <td>...</td>\n",
       "      <td>...</td>\n",
       "      <td>...</td>\n",
       "      <td>...</td>\n",
       "      <td>...</td>\n",
       "      <td>...</td>\n",
       "    </tr>\n",
       "    <tr>\n",
       "      <th>108124</th>\n",
       "      <td>250.0</td>\n",
       "      <td>False</td>\n",
       "      <td>US</td>\n",
       "      <td>USD</td>\n",
       "      <td>24</td>\n",
       "      <td>835.094444</td>\n",
       "      <td>6.728742</td>\n",
       "      <td>1373.173056</td>\n",
       "      <td>7.225607</td>\n",
       "      <td>538.078611</td>\n",
       "    </tr>\n",
       "    <tr>\n",
       "      <th>108125</th>\n",
       "      <td>5000.0</td>\n",
       "      <td>False</td>\n",
       "      <td>US</td>\n",
       "      <td>USD</td>\n",
       "      <td>0</td>\n",
       "      <td>285.817778</td>\n",
       "      <td>5.658847</td>\n",
       "      <td>1005.817778</td>\n",
       "      <td>6.914550</td>\n",
       "      <td>720.000000</td>\n",
       "    </tr>\n",
       "    <tr>\n",
       "      <th>108126</th>\n",
       "      <td>45000.0</td>\n",
       "      <td>False</td>\n",
       "      <td>CA</td>\n",
       "      <td>CAD</td>\n",
       "      <td>36</td>\n",
       "      <td>310.938611</td>\n",
       "      <td>5.742806</td>\n",
       "      <td>1030.938611</td>\n",
       "      <td>6.939194</td>\n",
       "      <td>720.000000</td>\n",
       "    </tr>\n",
       "    <tr>\n",
       "      <th>108127</th>\n",
       "      <td>3000.0</td>\n",
       "      <td>False</td>\n",
       "      <td>US</td>\n",
       "      <td>USD</td>\n",
       "      <td>0</td>\n",
       "      <td>152.635278</td>\n",
       "      <td>5.034581</td>\n",
       "      <td>873.635278</td>\n",
       "      <td>6.773807</td>\n",
       "      <td>721.000000</td>\n",
       "    </tr>\n",
       "    <tr>\n",
       "      <th>108128</th>\n",
       "      <td>400.0</td>\n",
       "      <td>False</td>\n",
       "      <td>US</td>\n",
       "      <td>USD</td>\n",
       "      <td>14</td>\n",
       "      <td>0.588889</td>\n",
       "      <td>0.463035</td>\n",
       "      <td>1080.588889</td>\n",
       "      <td>6.986186</td>\n",
       "      <td>1080.000000</td>\n",
       "    </tr>\n",
       "  </tbody>\n",
       "</table>\n",
       "<p>108129 rows × 10 columns</p>\n",
       "</div>"
      ],
      "text/plain": [
       "           GOAL  DISABLE_COMMUNICATION COUNTRY CURRENCY  BACKERS_COUNT  \\\n",
       "0       60000.0                  False      US      USD              4   \n",
       "1         800.0                  False      US      USD             41   \n",
       "2       10000.0                  False      US      USD              1   \n",
       "3         270.0                  False      GB      GBP              0   \n",
       "4           5.0                  False      GB      GBP              0   \n",
       "...         ...                    ...     ...      ...            ...   \n",
       "108124    250.0                  False      US      USD             24   \n",
       "108125   5000.0                  False      US      USD              0   \n",
       "108126  45000.0                  False      CA      CAD             36   \n",
       "108127   3000.0                  False      US      USD              0   \n",
       "108128    400.0                  False      US      USD             14   \n",
       "\n",
       "        CREATE_LAUNCH_HOURS  CREATE_LAUNCH_HOURS_LOG  CREATE_DEADLINE_HOURS  \\\n",
       "0               2375.831389                 7.773524            3095.831389   \n",
       "1                119.452500                 4.791255            1400.657500   \n",
       "2               6345.470556                 8.755654            7185.470556   \n",
       "3                  0.920833                 0.652759             192.920833   \n",
       "4                823.233611                 6.714454            1544.233611   \n",
       "...                     ...                      ...                    ...   \n",
       "108124           835.094444                 6.728742            1373.173056   \n",
       "108125           285.817778                 5.658847            1005.817778   \n",
       "108126           310.938611                 5.742806            1030.938611   \n",
       "108127           152.635278                 5.034581             873.635278   \n",
       "108128             0.588889                 0.463035            1080.588889   \n",
       "\n",
       "        CREATE_DEADLINE_HOURS_LOG  LAUNCHED_DEADLINE_HOURS  \n",
       "0                        8.038135               720.000000  \n",
       "1                        7.245411              1281.205000  \n",
       "2                        8.879955               840.000000  \n",
       "3                        5.267450               192.000000  \n",
       "4                        7.342930               721.000000  \n",
       "...                           ...                      ...  \n",
       "108124                   7.225607               538.078611  \n",
       "108125                   6.914550               720.000000  \n",
       "108126                   6.939194               720.000000  \n",
       "108127                   6.773807               721.000000  \n",
       "108128                   6.986186              1080.000000  \n",
       "\n",
       "[108129 rows x 10 columns]"
      ]
     },
     "execution_count": 3,
     "metadata": {},
     "output_type": "execute_result"
    }
   ],
   "source": [
    "filepath = fr'{c.get_path_data_prepared()}/01_df_development.pkl'\n",
    "df_development = pd.read_pickle(filepath)\n",
    "df_development = df_development.drop(cols_to_drop, axis=1)\n",
    "df_development"
   ]
  },
  {
   "attachments": {},
   "cell_type": "markdown",
   "metadata": {},
   "source": [
    "# Analyze `BACKERS_COUNT`"
   ]
  },
  {
   "cell_type": "code",
   "execution_count": 4,
   "metadata": {},
   "outputs": [
    {
     "data": {
      "text/plain": [
       "<Axes: ylabel='Frequency'>"
      ]
     },
     "execution_count": 4,
     "metadata": {},
     "output_type": "execute_result"
    },
    {
     "data": {
      "image/png": "[encoded data removed]",
      "text/plain": [
       "<Figure size 800x550 with 1 Axes>"
      ]
     },
     "metadata": {},
     "output_type": "display_data"
    }
   ],
   "source": [
    "import matplotlib.pyplot as plt\n",
    "df_development['BACKERS_COUNT'].plot(kind='hist')"
   ]
  },
  {
   "cell_type": "markdown",
   "metadata": {},
   "source": [
    "# Run PyCaret"
   ]
  },
  {
   "cell_type": "code",
   "execution_count": null,
   "metadata": {},
   "outputs": [],
   "source": [
    "s1 = setup(data=df_development, train_size=0.8, target='FINAL_STATUS', session_id=42)"
   ]
  },
  {
   "cell_type": "code",
   "execution_count": null,
   "metadata": {},
   "outputs": [],
   "source": [
    "remove_metric('Kappa')\n",
    "remove_metric('Accuracy')\n",
    "add_metric('logloss', 'Log Loss', log_loss, greater_is_better=False)\n",
    "get_metrics()"
   ]
  },
  {
   "cell_type": "code",
   "execution_count": null,
   "metadata": {},
   "outputs": [],
   "source": [
    "best = compare_models(sort='MCC', n_select=10)"
   ]
  },
  {
   "cell_type": "code",
   "execution_count": null,
   "metadata": {},
   "outputs": [],
   "source": [
    "best"
   ]
  },
  {
   "cell_type": "markdown",
   "metadata": {},
   "source": [
    "# Evaluate models"
   ]
  },
  {
   "cell_type": "markdown",
   "metadata": {},
   "source": [
    "## Bag top 3 models"
   ]
  },
  {
   "cell_type": "code",
   "execution_count": null,
   "metadata": {},
   "outputs": [],
   "source": [
    "tuned_top = [tune_model(i, optimize='MCC') for i in best[:4]]"
   ]
  },
  {
   "cell_type": "markdown",
   "metadata": {},
   "source": [
    "## Find best overall model"
   ]
  },
  {
   "cell_type": "code",
   "execution_count": null,
   "metadata": {},
   "outputs": [],
   "source": [
    "blender = blend_models(tuned_top, optimize='MCC')\n",
    "stacker = stack_models(tuned_top, optimize='MCC')\n",
    "best_overall_model = automl(optimize='MCC')\n",
    "\n",
    "# Hard Voting Classifier, i.e. majority wins\n",
    "best_overall_model"
   ]
  },
  {
   "cell_type": "code",
   "execution_count": null,
   "metadata": {},
   "outputs": [],
   "source": [
    "predict_holdout = predict_model(best_overall_model)\n",
    "predict_holdout"
   ]
  },
  {
   "cell_type": "code",
   "execution_count": null,
   "metadata": {},
   "outputs": [],
   "source": [
    "plot_model(best_overall_model, plot='confusion_matrix')"
   ]
  },
  {
   "cell_type": "code",
   "execution_count": null,
   "metadata": {},
   "outputs": [],
   "source": [
    "plot_model(best_overall_model, plot='class_report')"
   ]
  },
  {
   "cell_type": "code",
   "execution_count": null,
   "metadata": {},
   "outputs": [],
   "source": [
    "plot_model(best_overall_model, plot='error')"
   ]
  },
  {
   "cell_type": "markdown",
   "metadata": {},
   "source": [
    "## Single best  model"
   ]
  },
  {
   "cell_type": "code",
   "execution_count": null,
   "metadata": {},
   "outputs": [],
   "source": [
    "best[0]"
   ]
  },
  {
   "cell_type": "code",
   "execution_count": null,
   "metadata": {},
   "outputs": [],
   "source": [
    "lgbm_tuned = tune_model(best[0], optimize='MCC')"
   ]
  },
  {
   "cell_type": "markdown",
   "metadata": {},
   "source": [
    "# Saving to files"
   ]
  },
  {
   "cell_type": "code",
   "execution_count": null,
   "metadata": {},
   "outputs": [],
   "source": [
    "filename = fr'{c.get_path_iteration()}/pycaret_best_single_model'\n",
    "save_model(lgbm_tuned, filename)"
   ]
  },
  {
   "cell_type": "code",
   "execution_count": null,
   "metadata": {},
   "outputs": [],
   "source": [
    "filename = fr'{c.get_path_iteration()}/pycaret_best_overall_model'\n",
    "save_model(best_overall_model, filename)"
   ]
  }
 ],
 "metadata": {
  "kernelspec": {
   "display_name": ".venv",
   "language": "python",
   "name": "python3"
  },
  "language_info": {
   "codemirror_mode": {
    "name": "ipython",
    "version": 3
   },
   "file_extension": ".py",
   "mimetype": "text/x-python",
   "name": "python",
   "nbconvert_exporter": "python",
   "pygments_lexer": "ipython3",
   "version": "3.10.6"
  },
  "orig_nbformat": 4
 },
 "nbformat": 4,
 "nbformat_minor": 2
}
